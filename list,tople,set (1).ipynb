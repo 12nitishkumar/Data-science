{
 "cells": [
  {
   "cell_type": "code",
   "execution_count": 2,
   "id": "a2180107-1cb4-4237-8689-097393597ac3",
   "metadata": {},
   "outputs": [],
   "source": [
    "l= \"nitish\""
   ]
  },
  {
   "cell_type": "code",
   "execution_count": 3,
   "id": "19b40f13-c0d8-4d52-ab5e-d94212398fc4",
   "metadata": {},
   "outputs": [
    {
     "data": {
      "text/plain": [
       "str"
      ]
     },
     "execution_count": 3,
     "metadata": {},
     "output_type": "execute_result"
    }
   ],
   "source": [
    "type(l)"
   ]
  },
  {
   "cell_type": "code",
   "execution_count": 5,
   "id": "18a5862b-a62c-4f5c-b8b9-93ae33d35ace",
   "metadata": {},
   "outputs": [],
   "source": [
    "l = [\"nitish\" ,True, 45.01,7845,6+4j,]"
   ]
  },
  {
   "cell_type": "code",
   "execution_count": 6,
   "id": "00e815d8-a51e-483e-a5eb-8c9f5b9708c1",
   "metadata": {},
   "outputs": [
    {
     "data": {
      "text/plain": [
       "['nitish', True]"
      ]
     },
     "execution_count": 6,
     "metadata": {},
     "output_type": "execute_result"
    }
   ],
   "source": [
    "l[0:2]"
   ]
  },
  {
   "cell_type": "code",
   "execution_count": 7,
   "id": "3e5e4d00-ead8-44dc-ad62-218d58d1b425",
   "metadata": {},
   "outputs": [
    {
     "data": {
      "text/plain": [
       "[(6+4j), 7845, 45.01, True, 'nitish']"
      ]
     },
     "execution_count": 7,
     "metadata": {},
     "output_type": "execute_result"
    }
   ],
   "source": [
    "l[::-1]"
   ]
  },
  {
   "cell_type": "code",
   "execution_count": 8,
   "id": "1b93055c-2d9b-4b40-a5c8-42635173b638",
   "metadata": {},
   "outputs": [
    {
     "data": {
      "text/plain": [
       "(6+4j)"
      ]
     },
     "execution_count": 8,
     "metadata": {},
     "output_type": "execute_result"
    }
   ],
   "source": [
    "l[-1]"
   ]
  },
  {
   "cell_type": "code",
   "execution_count": 11,
   "id": "2846aa25-497f-44e9-8c09-09935dbb9050",
   "metadata": {},
   "outputs": [
    {
     "data": {
      "text/plain": [
       "list"
      ]
     },
     "execution_count": 11,
     "metadata": {},
     "output_type": "execute_result"
    }
   ],
   "source": [
    "type(l)"
   ]
  },
  {
   "cell_type": "code",
   "execution_count": 12,
   "id": "98ea0de4-6c16-49d5-ba69-3066a033cbbf",
   "metadata": {},
   "outputs": [
    {
     "data": {
      "text/plain": [
       "['nitish', True, 45.01, 7845, (6+4j)]"
      ]
     },
     "execution_count": 12,
     "metadata": {},
     "output_type": "execute_result"
    }
   ],
   "source": [
    "l"
   ]
  },
  {
   "cell_type": "code",
   "execution_count": 14,
   "id": "d2b92c36-5854-4bab-8f84-781df34e036e",
   "metadata": {},
   "outputs": [],
   "source": [
    "l.append(45)"
   ]
  },
  {
   "cell_type": "code",
   "execution_count": 15,
   "id": "ae59164a-31cc-408d-8b08-97051876ecc4",
   "metadata": {},
   "outputs": [
    {
     "data": {
      "text/plain": [
       "['nitish', True, 45.01, 7845, (6+4j), 45]"
      ]
     },
     "execution_count": 15,
     "metadata": {},
     "output_type": "execute_result"
    }
   ],
   "source": [
    "l"
   ]
  },
  {
   "cell_type": "code",
   "execution_count": 18,
   "id": "1abe6627-23b8-40aa-8b4e-fd1f4e5c0fd7",
   "metadata": {},
   "outputs": [],
   "source": [
    "l.remove(45)"
   ]
  },
  {
   "cell_type": "code",
   "execution_count": 19,
   "id": "ec9b1055-8f5c-4a5f-b8a1-b328c01583b6",
   "metadata": {},
   "outputs": [
    {
     "data": {
      "text/plain": [
       "['nitish', True, 45.01, 7845, (6+4j)]"
      ]
     },
     "execution_count": 19,
     "metadata": {},
     "output_type": "execute_result"
    }
   ],
   "source": [
    "l"
   ]
  },
  {
   "cell_type": "code",
   "execution_count": 20,
   "id": "6bfd7e7a-2e9a-4705-b6e9-77a3240d19f4",
   "metadata": {},
   "outputs": [
    {
     "data": {
      "text/plain": [
       "['nitish', 45.01, (6+4j)]"
      ]
     },
     "execution_count": 20,
     "metadata": {},
     "output_type": "execute_result"
    }
   ],
   "source": [
    "l[::2]"
   ]
  },
  {
   "cell_type": "code",
   "execution_count": 21,
   "id": "1b746417-7239-4a76-aa80-fa6a8f2bfccc",
   "metadata": {},
   "outputs": [],
   "source": [
    "s = \"pwskills\""
   ]
  },
  {
   "cell_type": "code",
   "execution_count": 25,
   "id": "9524803f-ee90-4fea-b2f1-f3b1533aba25",
   "metadata": {},
   "outputs": [
    {
     "data": {
      "text/plain": [
       "['p', 'w', 's', 'k', 'i', 'l', 'l', 's', 'nitish', True, 45.01, 7845, (6+4j)]"
      ]
     },
     "execution_count": 25,
     "metadata": {},
     "output_type": "execute_result"
    }
   ],
   "source": [
    "list(s) + l"
   ]
  },
  {
   "cell_type": "code",
   "execution_count": 26,
   "id": "efe415a6-663a-477a-aeac-7cfd2683f291",
   "metadata": {},
   "outputs": [
    {
     "data": {
      "text/plain": [
       "['nitish', True, 45.01, 7845, (6+4j)]"
      ]
     },
     "execution_count": 26,
     "metadata": {},
     "output_type": "execute_result"
    }
   ],
   "source": [
    "l"
   ]
  },
  {
   "cell_type": "code",
   "execution_count": 28,
   "id": "56ba0c76-540c-4647-b45e-834ee8bca5d6",
   "metadata": {},
   "outputs": [
    {
     "data": {
      "text/plain": [
       "'ni'"
      ]
     },
     "execution_count": 28,
     "metadata": {},
     "output_type": "execute_result"
    }
   ],
   "source": [
    "l[0][0:2]"
   ]
  },
  {
   "cell_type": "code",
   "execution_count": 34,
   "id": "2c06152d-1a94-4b11-be96-d22225777ee1",
   "metadata": {},
   "outputs": [
    {
     "data": {
      "text/plain": [
       "True"
      ]
     },
     "execution_count": 34,
     "metadata": {},
     "output_type": "execute_result"
    }
   ],
   "source": [
    "l[1]"
   ]
  },
  {
   "cell_type": "code",
   "execution_count": 38,
   "id": "2c14d0e6-7fca-4e26-8f9f-9c80a85d56f2",
   "metadata": {},
   "outputs": [
    {
     "data": {
      "text/plain": [
       "'Tr'"
      ]
     },
     "execution_count": 38,
     "metadata": {},
     "output_type": "execute_result"
    }
   ],
   "source": [
    "str(l[1])[0:2]"
   ]
  },
  {
   "cell_type": "code",
   "execution_count": 40,
   "id": "0ee025a6-78b1-460b-8d99-b4bd1239d6b1",
   "metadata": {},
   "outputs": [],
   "source": [
    "l1 = [3,4,5]"
   ]
  },
  {
   "cell_type": "code",
   "execution_count": 41,
   "id": "d8971bcb-7deb-4673-a095-f510047a77c1",
   "metadata": {},
   "outputs": [
    {
     "data": {
      "text/plain": [
       "['nitish', True, 45.01, 7845, (6+4j), 3, 4, 5]"
      ]
     },
     "execution_count": 41,
     "metadata": {},
     "output_type": "execute_result"
    }
   ],
   "source": [
    "l+l1"
   ]
  },
  {
   "cell_type": "code",
   "execution_count": 42,
   "id": "4a89020d-fb31-4b34-a488-be8a4945e918",
   "metadata": {},
   "outputs": [
    {
     "data": {
      "text/plain": [
       "[3, 4, 5, 3, 4, 5, 3, 4, 5]"
      ]
     },
     "execution_count": 42,
     "metadata": {},
     "output_type": "execute_result"
    }
   ],
   "source": [
    "l1*3"
   ]
  },
  {
   "cell_type": "code",
   "execution_count": 43,
   "id": "1aceb9d3-30c6-4208-a38e-8ff439625563",
   "metadata": {},
   "outputs": [
    {
     "data": {
      "text/plain": [
       "['nitish', True, 45.01, 7845, (6+4j)]"
      ]
     },
     "execution_count": 43,
     "metadata": {},
     "output_type": "execute_result"
    }
   ],
   "source": [
    "l"
   ]
  },
  {
   "cell_type": "code",
   "execution_count": 46,
   "id": "931548b2-9926-48cc-9489-42e89631527f",
   "metadata": {},
   "outputs": [
    {
     "data": {
      "text/plain": [
       "5"
      ]
     },
     "execution_count": 46,
     "metadata": {},
     "output_type": "execute_result"
    }
   ],
   "source": [
    "len(l)"
   ]
  },
  {
   "cell_type": "code",
   "execution_count": 47,
   "id": "bed0c164-2da4-478a-ac98-ead28f644078",
   "metadata": {},
   "outputs": [],
   "source": [
    "l.append(102)"
   ]
  },
  {
   "cell_type": "code",
   "execution_count": 48,
   "id": "b6269b9d-4a14-4ff8-a2f1-2259c69bf345",
   "metadata": {},
   "outputs": [
    {
     "data": {
      "text/plain": [
       "['nitish', True, 45.01, 7845, (6+4j), 102]"
      ]
     },
     "execution_count": 48,
     "metadata": {},
     "output_type": "execute_result"
    }
   ],
   "source": [
    "l\n"
   ]
  },
  {
   "cell_type": "code",
   "execution_count": 49,
   "id": "f85bdd37-d47f-4946-9d8a-7c25572ae0ea",
   "metadata": {},
   "outputs": [],
   "source": [
    "l.append(s)"
   ]
  },
  {
   "cell_type": "code",
   "execution_count": 50,
   "id": "ff14d2ba-1a54-45c7-8c36-ab3a6d9576ba",
   "metadata": {},
   "outputs": [
    {
     "data": {
      "text/plain": [
       "['nitish', True, 45.01, 7845, (6+4j), 102, 'pwskills']"
      ]
     },
     "execution_count": 50,
     "metadata": {},
     "output_type": "execute_result"
    }
   ],
   "source": [
    "l"
   ]
  },
  {
   "cell_type": "code",
   "execution_count": 51,
   "id": "10d08a1a-e639-4163-9665-58eba86d50a2",
   "metadata": {},
   "outputs": [
    {
     "data": {
      "text/plain": [
       "[3, 4, 5]"
      ]
     },
     "execution_count": 51,
     "metadata": {},
     "output_type": "execute_result"
    }
   ],
   "source": [
    "l1"
   ]
  },
  {
   "cell_type": "code",
   "execution_count": 52,
   "id": "05555e92-b296-4ae6-8759-eb5753a88809",
   "metadata": {},
   "outputs": [],
   "source": [
    "l.append(l1)"
   ]
  },
  {
   "cell_type": "code",
   "execution_count": 53,
   "id": "8554ed15-ccb2-4d7c-9108-711cd9f47aea",
   "metadata": {},
   "outputs": [
    {
     "data": {
      "text/plain": [
       "['nitish', True, 45.01, 7845, (6+4j), 102, 'pwskills', [3, 4, 5]]"
      ]
     },
     "execution_count": 53,
     "metadata": {},
     "output_type": "execute_result"
    }
   ],
   "source": [
    "l"
   ]
  },
  {
   "cell_type": "code",
   "execution_count": 55,
   "id": "64d479a1-aa09-490c-96f6-e13adc3cc926",
   "metadata": {},
   "outputs": [
    {
     "data": {
      "text/plain": [
       "4"
      ]
     },
     "execution_count": 55,
     "metadata": {},
     "output_type": "execute_result"
    }
   ],
   "source": [
    "l[-1][1]"
   ]
  },
  {
   "cell_type": "code",
   "execution_count": 58,
   "id": "bdba81cb-9d0a-4a7f-b5d3-3546f18fa1be",
   "metadata": {},
   "outputs": [
    {
     "data": {
      "text/plain": [
       "['nitish', True, 45.01, 7845, (6+4j), 102, 'pwskills', [3, 4, 5]]"
      ]
     },
     "execution_count": 58,
     "metadata": {},
     "output_type": "execute_result"
    }
   ],
   "source": [
    "l"
   ]
  },
  {
   "cell_type": "code",
   "execution_count": 59,
   "id": "9a1df75a-830f-4a6f-b00e-dddd9046bc21",
   "metadata": {},
   "outputs": [],
   "source": [
    "l.extend(\"nitish\")"
   ]
  },
  {
   "cell_type": "code",
   "execution_count": 60,
   "id": "a2b980f1-76fe-4760-8f43-d40f632cbd19",
   "metadata": {},
   "outputs": [
    {
     "data": {
      "text/plain": [
       "['nitish',\n",
       " True,\n",
       " 45.01,\n",
       " 7845,\n",
       " (6+4j),\n",
       " 102,\n",
       " 'pwskills',\n",
       " [3, 4, 5],\n",
       " 'n',\n",
       " 'i',\n",
       " 't',\n",
       " 'i',\n",
       " 's',\n",
       " 'h']"
      ]
     },
     "execution_count": 60,
     "metadata": {},
     "output_type": "execute_result"
    }
   ],
   "source": [
    "l"
   ]
  },
  {
   "cell_type": "code",
   "execution_count": 61,
   "id": "3591f1cf-db28-4624-8eb3-d9d235ea7137",
   "metadata": {},
   "outputs": [],
   "source": [
    "l.extend([3,4,5])"
   ]
  },
  {
   "cell_type": "code",
   "execution_count": 62,
   "id": "435000ab-0827-4a17-848c-7ab5081d877c",
   "metadata": {},
   "outputs": [
    {
     "data": {
      "text/plain": [
       "['nitish',\n",
       " True,\n",
       " 45.01,\n",
       " 7845,\n",
       " (6+4j),\n",
       " 102,\n",
       " 'pwskills',\n",
       " [3, 4, 5],\n",
       " 'n',\n",
       " 'i',\n",
       " 't',\n",
       " 'i',\n",
       " 's',\n",
       " 'h',\n",
       " 3,\n",
       " 4,\n",
       " 5]"
      ]
     },
     "execution_count": 62,
     "metadata": {},
     "output_type": "execute_result"
    }
   ],
   "source": [
    "l"
   ]
  },
  {
   "cell_type": "code",
   "execution_count": 63,
   "id": "208302e9-7f66-43bf-bd90-0f110ace369c",
   "metadata": {},
   "outputs": [
    {
     "data": {
      "text/plain": [
       "[3, 4, 5]"
      ]
     },
     "execution_count": 63,
     "metadata": {},
     "output_type": "execute_result"
    }
   ],
   "source": [
    "l1"
   ]
  },
  {
   "cell_type": "code",
   "execution_count": 65,
   "id": "6129ac3b-318d-4896-aede-40e7b37b1b83",
   "metadata": {},
   "outputs": [],
   "source": [
    "l1.insert(1,\"mahi\")"
   ]
  },
  {
   "cell_type": "code",
   "execution_count": 66,
   "id": "42b58caf-7ce3-47fa-a658-5a607821681e",
   "metadata": {},
   "outputs": [
    {
     "data": {
      "text/plain": [
       "[3, 'mahi', 4, 5]"
      ]
     },
     "execution_count": 66,
     "metadata": {},
     "output_type": "execute_result"
    }
   ],
   "source": [
    "l1"
   ]
  },
  {
   "cell_type": "code",
   "execution_count": 67,
   "id": "4952a9fd-91ba-4ca5-a267-818220a8293b",
   "metadata": {},
   "outputs": [],
   "source": [
    "l1.insert(3,[45,42,78])"
   ]
  },
  {
   "cell_type": "code",
   "execution_count": 68,
   "id": "920ef501-580e-441f-9458-ad5000ff5e83",
   "metadata": {},
   "outputs": [
    {
     "data": {
      "text/plain": [
       "[3, 'mahi', 4, [45, 42, 78], 5]"
      ]
     },
     "execution_count": 68,
     "metadata": {},
     "output_type": "execute_result"
    }
   ],
   "source": [
    "l1"
   ]
  },
  {
   "cell_type": "code",
   "execution_count": 69,
   "id": "40764dab-2095-4cba-8b8c-8c33ba05c49d",
   "metadata": {},
   "outputs": [],
   "source": [
    "l1.insert(-1,65)"
   ]
  },
  {
   "cell_type": "code",
   "execution_count": 70,
   "id": "2bbca0d4-4ca5-4c44-938f-b4a26c0030a8",
   "metadata": {},
   "outputs": [
    {
     "data": {
      "text/plain": [
       "[3, 'mahi', 4, [45, 42, 78], 65, 5]"
      ]
     },
     "execution_count": 70,
     "metadata": {},
     "output_type": "execute_result"
    }
   ],
   "source": [
    "l1"
   ]
  },
  {
   "cell_type": "code",
   "execution_count": 71,
   "id": "d39a9770-bf4b-4766-b2bf-6cf611665833",
   "metadata": {},
   "outputs": [
    {
     "data": {
      "text/plain": [
       "[3, 'mahi', 4, [45, 42, 78], 65, 5]"
      ]
     },
     "execution_count": 71,
     "metadata": {},
     "output_type": "execute_result"
    }
   ],
   "source": [
    "l1"
   ]
  },
  {
   "cell_type": "code",
   "execution_count": 75,
   "id": "b3e0aec1-cd31-4c77-81be-ccec9b14d4fe",
   "metadata": {},
   "outputs": [
    {
     "data": {
      "text/plain": [
       "5"
      ]
     },
     "execution_count": 75,
     "metadata": {},
     "output_type": "execute_result"
    }
   ],
   "source": [
    "l1.pop()"
   ]
  },
  {
   "cell_type": "code",
   "execution_count": 76,
   "id": "32e8b7f0-636e-416a-9718-282a0b7a787e",
   "metadata": {},
   "outputs": [
    {
     "data": {
      "text/plain": [
       "[3, 'mahi', 4, [45, 42, 78], 65]"
      ]
     },
     "execution_count": 76,
     "metadata": {},
     "output_type": "execute_result"
    }
   ],
   "source": [
    "l1"
   ]
  },
  {
   "cell_type": "code",
   "execution_count": 77,
   "id": "5bc3363e-c22b-465d-b1da-a3214f22c4b3",
   "metadata": {},
   "outputs": [
    {
     "data": {
      "text/plain": [
       "[45, 42, 78]"
      ]
     },
     "execution_count": 77,
     "metadata": {},
     "output_type": "execute_result"
    }
   ],
   "source": [
    "l1.pop(3)"
   ]
  },
  {
   "cell_type": "code",
   "execution_count": 78,
   "id": "8c9c2da4-f16c-4972-9a38-313fc62f14c4",
   "metadata": {},
   "outputs": [
    {
     "data": {
      "text/plain": [
       "[3, 'mahi', 4, 65]"
      ]
     },
     "execution_count": 78,
     "metadata": {},
     "output_type": "execute_result"
    }
   ],
   "source": [
    "l1"
   ]
  },
  {
   "cell_type": "code",
   "execution_count": 80,
   "id": "df807a31-786d-4b25-ad0f-baaeb4687b88",
   "metadata": {},
   "outputs": [
    {
     "data": {
      "text/plain": [
       "[3, 'mahi', 4, 65]"
      ]
     },
     "execution_count": 80,
     "metadata": {},
     "output_type": "execute_result"
    }
   ],
   "source": [
    "l1"
   ]
  },
  {
   "cell_type": "code",
   "execution_count": 81,
   "id": "ec6453e7-29c6-45c9-95f0-abd7e1ab7023",
   "metadata": {},
   "outputs": [],
   "source": [
    "l1.remove(3)"
   ]
  },
  {
   "cell_type": "code",
   "execution_count": 82,
   "id": "3140d7eb-0a27-4b9e-bb40-38a0a9ed79a4",
   "metadata": {},
   "outputs": [
    {
     "data": {
      "text/plain": [
       "['mahi', 4, 65]"
      ]
     },
     "execution_count": 82,
     "metadata": {},
     "output_type": "execute_result"
    }
   ],
   "source": [
    "l1"
   ]
  },
  {
   "cell_type": "code",
   "execution_count": 83,
   "id": "7fd98cae-78d0-4b40-a09b-14dfddf1362a",
   "metadata": {},
   "outputs": [],
   "source": [
    "l1.remove('mahi')"
   ]
  },
  {
   "cell_type": "code",
   "execution_count": 84,
   "id": "92015986-9b44-498e-840a-0dffea6fc9c8",
   "metadata": {},
   "outputs": [
    {
     "data": {
      "text/plain": [
       "[4, 65]"
      ]
     },
     "execution_count": 84,
     "metadata": {},
     "output_type": "execute_result"
    }
   ],
   "source": [
    "l1"
   ]
  },
  {
   "cell_type": "code",
   "execution_count": 85,
   "id": "948c621c-f547-41d9-b0f4-eb863f2050ef",
   "metadata": {},
   "outputs": [],
   "source": [
    "l1.append([4,2,5])"
   ]
  },
  {
   "cell_type": "code",
   "execution_count": 86,
   "id": "8815f6f5-36fd-48bf-aa2a-fa3a34697f75",
   "metadata": {},
   "outputs": [
    {
     "data": {
      "text/plain": [
       "[4, 65, [4, 2, 5]]"
      ]
     },
     "execution_count": 86,
     "metadata": {},
     "output_type": "execute_result"
    }
   ],
   "source": [
    "l1"
   ]
  },
  {
   "cell_type": "code",
   "execution_count": 88,
   "id": "f71f04bb-4ac8-4d88-9e5f-3f3b51785cf9",
   "metadata": {},
   "outputs": [],
   "source": [
    "l1[2].remove(2)"
   ]
  },
  {
   "cell_type": "code",
   "execution_count": 89,
   "id": "2270619f-5f10-458c-97e7-0afd268371f8",
   "metadata": {},
   "outputs": [
    {
     "data": {
      "text/plain": [
       "[4, 65, [4, 5]]"
      ]
     },
     "execution_count": 89,
     "metadata": {},
     "output_type": "execute_result"
    }
   ],
   "source": [
    "l1"
   ]
  },
  {
   "cell_type": "code",
   "execution_count": 91,
   "id": "b4664d46-6cc6-4fdd-93d9-c0003e40e2fc",
   "metadata": {},
   "outputs": [],
   "source": [
    "l1.insert(2,\"nitish\")"
   ]
  },
  {
   "cell_type": "code",
   "execution_count": 92,
   "id": "ffc18a55-bec0-46df-bce5-599c4f7f2b35",
   "metadata": {},
   "outputs": [
    {
     "data": {
      "text/plain": [
       "[4, 65, 'nitish', [4, 5]]"
      ]
     },
     "execution_count": 92,
     "metadata": {},
     "output_type": "execute_result"
    }
   ],
   "source": [
    "l1"
   ]
  },
  {
   "cell_type": "code",
   "execution_count": 93,
   "id": "2eea7803-5753-465a-91d3-39d8152e100f",
   "metadata": {},
   "outputs": [
    {
     "data": {
      "text/plain": [
       "[4, 65, 'nitish', [4, 5]]"
      ]
     },
     "execution_count": 93,
     "metadata": {},
     "output_type": "execute_result"
    }
   ],
   "source": [
    "l1"
   ]
  },
  {
   "cell_type": "code",
   "execution_count": 94,
   "id": "9338f6df-1530-45d5-b873-ff08eb773bf8",
   "metadata": {},
   "outputs": [],
   "source": [
    "l1.append(5)"
   ]
  },
  {
   "cell_type": "code",
   "execution_count": 95,
   "id": "ce489cbe-e1b7-461c-ac22-cf7d3a858e14",
   "metadata": {},
   "outputs": [
    {
     "data": {
      "text/plain": [
       "[4, 65, 'nitish', [4, 5], 5]"
      ]
     },
     "execution_count": 95,
     "metadata": {},
     "output_type": "execute_result"
    }
   ],
   "source": [
    "l1"
   ]
  },
  {
   "cell_type": "code",
   "execution_count": 96,
   "id": "7d13ab4b-c768-481a-8a13-e5c13bccb85c",
   "metadata": {},
   "outputs": [],
   "source": [
    "l1.remove(5)"
   ]
  },
  {
   "cell_type": "code",
   "execution_count": 97,
   "id": "23f397a6-bd7a-4ecd-a8e9-e567db066784",
   "metadata": {},
   "outputs": [
    {
     "data": {
      "text/plain": [
       "[4, 65, 'nitish', [4, 5]]"
      ]
     },
     "execution_count": 97,
     "metadata": {},
     "output_type": "execute_result"
    }
   ],
   "source": [
    "l1"
   ]
  },
  {
   "cell_type": "code",
   "execution_count": 98,
   "id": "93856f6f-2ec1-44e5-aa91-10627e193a1d",
   "metadata": {},
   "outputs": [
    {
     "data": {
      "text/plain": [
       "[[4, 5], 'nitish', 65, 4]"
      ]
     },
     "execution_count": 98,
     "metadata": {},
     "output_type": "execute_result"
    }
   ],
   "source": [
    "l1[::-1]"
   ]
  },
  {
   "cell_type": "code",
   "execution_count": 99,
   "id": "3096aa4b-b5c1-4576-805d-36129824c1a0",
   "metadata": {},
   "outputs": [],
   "source": [
    "l1.reverse()"
   ]
  },
  {
   "cell_type": "code",
   "execution_count": 100,
   "id": "3e1aa7f4-c7a0-4d51-8b1d-6abc9f9b0b5e",
   "metadata": {},
   "outputs": [
    {
     "data": {
      "text/plain": [
       "[[4, 5], 'nitish', 65, 4]"
      ]
     },
     "execution_count": 100,
     "metadata": {},
     "output_type": "execute_result"
    }
   ],
   "source": [
    "l1"
   ]
  },
  {
   "cell_type": "code",
   "execution_count": 101,
   "id": "36c14fb2-7986-43fa-b5a4-60f72c10760d",
   "metadata": {},
   "outputs": [
    {
     "data": {
      "text/plain": [
       "[[4, 5], 'nitish', 65, 4]"
      ]
     },
     "execution_count": 101,
     "metadata": {},
     "output_type": "execute_result"
    }
   ],
   "source": [
    "l1"
   ]
  },
  {
   "cell_type": "code",
   "execution_count": 102,
   "id": "efd5e5c3-8705-452f-a389-9c1ad03f7dfe",
   "metadata": {},
   "outputs": [
    {
     "ename": "TypeError",
     "evalue": "'<' not supported between instances of 'str' and 'list'",
     "output_type": "error",
     "traceback": [
      "\u001b[0;31m---------------------------------------------------------------------------\u001b[0m",
      "\u001b[0;31mTypeError\u001b[0m                                 Traceback (most recent call last)",
      "Cell \u001b[0;32mIn[102], line 1\u001b[0m\n\u001b[0;32m----> 1\u001b[0m \u001b[43ml1\u001b[49m\u001b[38;5;241;43m.\u001b[39;49m\u001b[43msort\u001b[49m\u001b[43m(\u001b[49m\u001b[43m)\u001b[49m\n",
      "\u001b[0;31mTypeError\u001b[0m: '<' not supported between instances of 'str' and 'list'"
     ]
    }
   ],
   "source": [
    "l1.sort()"
   ]
  },
  {
   "cell_type": "code",
   "execution_count": 104,
   "id": "0a1e0aa9-43d4-4e18-9fcc-615aa04acc86",
   "metadata": {},
   "outputs": [],
   "source": [
    "l2= [ 34,46,5,68,7,80,9]"
   ]
  },
  {
   "cell_type": "code",
   "execution_count": 105,
   "id": "130c5e00-c492-430f-9acf-78375a21ce72",
   "metadata": {},
   "outputs": [],
   "source": [
    "l2.sort()"
   ]
  },
  {
   "cell_type": "code",
   "execution_count": 106,
   "id": "323975c5-edc9-4599-862d-701979a87836",
   "metadata": {},
   "outputs": [
    {
     "data": {
      "text/plain": [
       "[5, 7, 9, 34, 46, 68, 80]"
      ]
     },
     "execution_count": 106,
     "metadata": {},
     "output_type": "execute_result"
    }
   ],
   "source": [
    "l2"
   ]
  },
  {
   "cell_type": "code",
   "execution_count": 107,
   "id": "e1a6c57e-1bbd-45d7-804e-32ab1d7d33c0",
   "metadata": {},
   "outputs": [],
   "source": [
    "l3 = [65,\"nitish\",45 ,56.12,\"kumar\"]"
   ]
  },
  {
   "cell_type": "code",
   "execution_count": 108,
   "id": "65060a99-ef5d-41ff-a631-a9cebcfe538c",
   "metadata": {},
   "outputs": [
    {
     "data": {
      "text/plain": [
       "[65, 'nitish', 45, 56.12, 'kumar']"
      ]
     },
     "execution_count": 108,
     "metadata": {},
     "output_type": "execute_result"
    }
   ],
   "source": [
    "l3"
   ]
  },
  {
   "cell_type": "code",
   "execution_count": 109,
   "id": "9b7c5023-5af4-401f-b372-920058fb2673",
   "metadata": {},
   "outputs": [
    {
     "ename": "TypeError",
     "evalue": "'<' not supported between instances of 'str' and 'int'",
     "output_type": "error",
     "traceback": [
      "\u001b[0;31m---------------------------------------------------------------------------\u001b[0m",
      "\u001b[0;31mTypeError\u001b[0m                                 Traceback (most recent call last)",
      "Cell \u001b[0;32mIn[109], line 1\u001b[0m\n\u001b[0;32m----> 1\u001b[0m \u001b[43ml3\u001b[49m\u001b[38;5;241;43m.\u001b[39;49m\u001b[43msort\u001b[49m\u001b[43m(\u001b[49m\u001b[43m)\u001b[49m\n",
      "\u001b[0;31mTypeError\u001b[0m: '<' not supported between instances of 'str' and 'int'"
     ]
    }
   ],
   "source": [
    "l3.sort()"
   ]
  },
  {
   "cell_type": "code",
   "execution_count": 111,
   "id": "21633e90-8a3b-4cad-8bba-75a4680dcb05",
   "metadata": {},
   "outputs": [],
   "source": [
    "l4 = [\"data science\" ,\"pwskills\",\"nitish\",\"kumar\"]"
   ]
  },
  {
   "cell_type": "code",
   "execution_count": 112,
   "id": "07866b2f-8e78-4dec-94ec-a33d877bbef2",
   "metadata": {},
   "outputs": [],
   "source": [
    "l4.sort()\n"
   ]
  },
  {
   "cell_type": "code",
   "execution_count": 113,
   "id": "b37bf7e6-21aa-43e7-81e2-a968c12182ab",
   "metadata": {},
   "outputs": [
    {
     "data": {
      "text/plain": [
       "['data science', 'kumar', 'nitish', 'pwskills']"
      ]
     },
     "execution_count": 113,
     "metadata": {},
     "output_type": "execute_result"
    }
   ],
   "source": [
    "l4"
   ]
  },
  {
   "cell_type": "code",
   "execution_count": 114,
   "id": "742faf25-8425-420f-afe5-34423e3ec3fe",
   "metadata": {},
   "outputs": [
    {
     "data": {
      "text/plain": [
       "2"
      ]
     },
     "execution_count": 114,
     "metadata": {},
     "output_type": "execute_result"
    }
   ],
   "source": [
    "l4.index(\"nitish\")"
   ]
  },
  {
   "cell_type": "code",
   "execution_count": 115,
   "id": "799591d4-f786-4062-82a8-43204ae0a489",
   "metadata": {},
   "outputs": [
    {
     "data": {
      "text/plain": [
       "1"
      ]
     },
     "execution_count": 115,
     "metadata": {},
     "output_type": "execute_result"
    }
   ],
   "source": [
    "l4.count(\"nitish\")"
   ]
  },
  {
   "cell_type": "code",
   "execution_count": 116,
   "id": "97e2c415-afb3-42cd-a8e9-c951c65631dc",
   "metadata": {},
   "outputs": [],
   "source": [
    "s = \"nitish\""
   ]
  },
  {
   "cell_type": "code",
   "execution_count": 117,
   "id": "4509f3bf-3da7-413d-878b-9ca7324a6dee",
   "metadata": {},
   "outputs": [],
   "source": [
    "l5 = [3,6,4,5,78]"
   ]
  },
  {
   "cell_type": "code",
   "execution_count": 119,
   "id": "332736ae-10d3-4d41-a828-1f1c4ad01e28",
   "metadata": {},
   "outputs": [
    {
     "ename": "TypeError",
     "evalue": "'str' object does not support item assignment",
     "output_type": "error",
     "traceback": [
      "\u001b[0;31m---------------------------------------------------------------------------\u001b[0m",
      "\u001b[0;31mTypeError\u001b[0m                                 Traceback (most recent call last)",
      "Cell \u001b[0;32mIn[119], line 1\u001b[0m\n\u001b[0;32m----> 1\u001b[0m \u001b[43ms\u001b[49m\u001b[43m[\u001b[49m\u001b[38;5;241;43m0\u001b[39;49m\u001b[43m]\u001b[49m \u001b[38;5;241m=\u001b[39m \u001b[38;5;124m'\u001b[39m\u001b[38;5;124ma\u001b[39m\u001b[38;5;124m'\u001b[39m\n",
      "\u001b[0;31mTypeError\u001b[0m: 'str' object does not support item assignment"
     ]
    }
   ],
   "source": [
    "s[0] = 'a'"
   ]
  },
  {
   "cell_type": "code",
   "execution_count": 121,
   "id": "96e45b27-5f25-4120-b5db-80591c161c1d",
   "metadata": {},
   "outputs": [],
   "source": [
    "l5[0] = 30"
   ]
  },
  {
   "cell_type": "code",
   "execution_count": 122,
   "id": "bdba09f0-8c32-4399-bf33-e9d8346685cb",
   "metadata": {},
   "outputs": [
    {
     "data": {
      "text/plain": [
       "[30, 6, 4, 5, 78]"
      ]
     },
     "execution_count": 122,
     "metadata": {},
     "output_type": "execute_result"
    }
   ],
   "source": [
    "l5"
   ]
  },
  {
   "cell_type": "code",
   "execution_count": 123,
   "id": "4709d91a-020e-4b96-8b26-aa09ca975975",
   "metadata": {},
   "outputs": [
    {
     "data": {
      "text/plain": [
       "'nitiah'"
      ]
     },
     "execution_count": 123,
     "metadata": {},
     "output_type": "execute_result"
    }
   ],
   "source": [
    "s.replace('s','a')"
   ]
  },
  {
   "cell_type": "code",
   "execution_count": 124,
   "id": "fe02e33c-2ebc-494c-b18e-18e22016ef4b",
   "metadata": {},
   "outputs": [],
   "source": [
    "t = (2,3,4,5,6,\"nitish\", True,45+52j,[21,35,65,41,45] )"
   ]
  },
  {
   "cell_type": "code",
   "execution_count": 125,
   "id": "208e5ff0-cc22-4048-9dca-3ffd8c08c882",
   "metadata": {},
   "outputs": [
    {
     "data": {
      "text/plain": [
       "(2, 3, 4, 5, 6, 'nitish', True, (45+52j), [21, 35, 65, 41, 45])"
      ]
     },
     "execution_count": 125,
     "metadata": {},
     "output_type": "execute_result"
    }
   ],
   "source": [
    "t"
   ]
  },
  {
   "cell_type": "code",
   "execution_count": 126,
   "id": "5be44ccf-0952-47a1-8a1e-ccda705021da",
   "metadata": {},
   "outputs": [
    {
     "data": {
      "text/plain": [
       "tuple"
      ]
     },
     "execution_count": 126,
     "metadata": {},
     "output_type": "execute_result"
    }
   ],
   "source": [
    "type(t)"
   ]
  },
  {
   "cell_type": "code",
   "execution_count": 127,
   "id": "34199c2d-aa9c-4660-bcbc-e41568a1b440",
   "metadata": {},
   "outputs": [
    {
     "data": {
      "text/plain": [
       "9"
      ]
     },
     "execution_count": 127,
     "metadata": {},
     "output_type": "execute_result"
    }
   ],
   "source": [
    "len(t)"
   ]
  },
  {
   "cell_type": "code",
   "execution_count": 129,
   "id": "61ecc134-c4d7-4c76-80a8-381530ed9894",
   "metadata": {},
   "outputs": [
    {
     "data": {
      "text/plain": [
       "2"
      ]
     },
     "execution_count": 129,
     "metadata": {},
     "output_type": "execute_result"
    }
   ],
   "source": [
    "t[0]"
   ]
  },
  {
   "cell_type": "code",
   "execution_count": 132,
   "id": "25d11d4d-d11a-419b-9b63-5c7785705df8",
   "metadata": {},
   "outputs": [
    {
     "data": {
      "text/plain": [
       "([21, 35, 65, 41, 45], (45+52j), True, 'nitish', 6, 5, 4, 3, 2)"
      ]
     },
     "execution_count": 132,
     "metadata": {},
     "output_type": "execute_result"
    }
   ],
   "source": [
    "t[::-1]"
   ]
  },
  {
   "cell_type": "code",
   "execution_count": 133,
   "id": "568dd15e-2117-4222-9734-f65ae4a8073c",
   "metadata": {},
   "outputs": [
    {
     "data": {
      "text/plain": [
       "['data science', 'kumar', 'nitish', 'pwskills']"
      ]
     },
     "execution_count": 133,
     "metadata": {},
     "output_type": "execute_result"
    }
   ],
   "source": [
    "l4"
   ]
  },
  {
   "cell_type": "code",
   "execution_count": 134,
   "id": "70ae1461-49b4-4231-b160-dc0912ca46eb",
   "metadata": {},
   "outputs": [],
   "source": [
    "l4[0] = 1234"
   ]
  },
  {
   "cell_type": "code",
   "execution_count": 135,
   "id": "293f3872-b1bf-4c99-a853-9f049c923fdd",
   "metadata": {},
   "outputs": [
    {
     "data": {
      "text/plain": [
       "[1234, 'kumar', 'nitish', 'pwskills']"
      ]
     },
     "execution_count": 135,
     "metadata": {},
     "output_type": "execute_result"
    }
   ],
   "source": [
    "l4"
   ]
  },
  {
   "cell_type": "code",
   "execution_count": 136,
   "id": "fb4472d3-6963-472b-b012-fcbb92dc740f",
   "metadata": {},
   "outputs": [
    {
     "data": {
      "text/plain": [
       "(2, 3, 4, 5, 6, 'nitish', True, (45+52j), [21, 35, 65, 41, 45])"
      ]
     },
     "execution_count": 136,
     "metadata": {},
     "output_type": "execute_result"
    }
   ],
   "source": [
    "t"
   ]
  },
  {
   "cell_type": "code",
   "execution_count": 137,
   "id": "6e03a108-c08f-4ed8-a72d-b61a2a1ad352",
   "metadata": {},
   "outputs": [
    {
     "ename": "TypeError",
     "evalue": "'tuple' object does not support item assignment",
     "output_type": "error",
     "traceback": [
      "\u001b[0;31m---------------------------------------------------------------------------\u001b[0m",
      "\u001b[0;31mTypeError\u001b[0m                                 Traceback (most recent call last)",
      "Cell \u001b[0;32mIn[137], line 1\u001b[0m\n\u001b[0;32m----> 1\u001b[0m \u001b[43mt\u001b[49m\u001b[43m[\u001b[49m\u001b[38;5;241;43m0\u001b[39;49m\u001b[43m]\u001b[49m \u001b[38;5;241m=\u001b[39m \u001b[38;5;124m\"\u001b[39m\u001b[38;5;124mnitish\u001b[39m\u001b[38;5;124m\"\u001b[39m\n",
      "\u001b[0;31mTypeError\u001b[0m: 'tuple' object does not support item assignment"
     ]
    }
   ],
   "source": [
    "t[0] = \"nitish\""
   ]
  },
  {
   "cell_type": "code",
   "execution_count": 138,
   "id": "995f3a49-953b-4383-9200-5fcc8eceb824",
   "metadata": {},
   "outputs": [
    {
     "data": {
      "text/plain": [
       "([21, 35, 65, 41, 45], (45+52j), True, 'nitish', 6, 5, 4, 3, 2)"
      ]
     },
     "execution_count": 138,
     "metadata": {},
     "output_type": "execute_result"
    }
   ],
   "source": [
    "t[::-1]"
   ]
  },
  {
   "cell_type": "code",
   "execution_count": 140,
   "id": "36cce21f-edfa-47c1-8a88-f3094f635fed",
   "metadata": {},
   "outputs": [
    {
     "data": {
      "text/plain": [
       "1"
      ]
     },
     "execution_count": 140,
     "metadata": {},
     "output_type": "execute_result"
    }
   ],
   "source": [
    "t.count(5)"
   ]
  },
  {
   "cell_type": "code",
   "execution_count": 141,
   "id": "e032424e-86a2-4375-984e-1fcc8593c666",
   "metadata": {},
   "outputs": [
    {
     "data": {
      "text/plain": [
       "6"
      ]
     },
     "execution_count": 141,
     "metadata": {},
     "output_type": "execute_result"
    }
   ],
   "source": [
    "t.index(True)"
   ]
  },
  {
   "cell_type": "code",
   "execution_count": 142,
   "id": "00fe5c1b-2124-46e0-b1d5-a6bc0bb1e52e",
   "metadata": {},
   "outputs": [
    {
     "data": {
      "text/plain": [
       "(2, 3, 4, 5, 6, 'nitish', True, (45+52j), [21, 35, 65, 41, 45])"
      ]
     },
     "execution_count": 142,
     "metadata": {},
     "output_type": "execute_result"
    }
   ],
   "source": [
    "t"
   ]
  },
  {
   "cell_type": "code",
   "execution_count": 145,
   "id": "c0ea3af2-51e2-48d4-bce4-2e25d4973b2b",
   "metadata": {},
   "outputs": [],
   "source": [
    "s1 = {}"
   ]
  },
  {
   "cell_type": "code",
   "execution_count": 146,
   "id": "e0aa22f0-c4d7-475b-9935-76c9fb2aeb72",
   "metadata": {},
   "outputs": [
    {
     "data": {
      "text/plain": [
       "dict"
      ]
     },
     "execution_count": 146,
     "metadata": {},
     "output_type": "execute_result"
    }
   ],
   "source": [
    "type(s1)"
   ]
  },
  {
   "cell_type": "code",
   "execution_count": 147,
   "id": "9b3425b2-5c7b-445a-bb78-907772928868",
   "metadata": {},
   "outputs": [],
   "source": [
    "s2 = {2,3,4,5,6,}"
   ]
  },
  {
   "cell_type": "code",
   "execution_count": 148,
   "id": "45728de7-7b0c-4724-b6b8-90f1c81b6517",
   "metadata": {},
   "outputs": [
    {
     "data": {
      "text/plain": [
       "set"
      ]
     },
     "execution_count": 148,
     "metadata": {},
     "output_type": "execute_result"
    }
   ],
   "source": [
    "type(s2)"
   ]
  },
  {
   "cell_type": "code",
   "execution_count": 149,
   "id": "2b32561c-6f50-47ad-bb63-112a9b069cbc",
   "metadata": {},
   "outputs": [],
   "source": [
    "s3 = {451,321,365,\"nitish\" , 45+65j,(45,5,6,5,4)}"
   ]
  },
  {
   "cell_type": "code",
   "execution_count": 150,
   "id": "a0a7604f-8302-46a7-8104-2ed976fb3d99",
   "metadata": {},
   "outputs": [
    {
     "data": {
      "text/plain": [
       "{(45+65j), (45, 5, 6, 5, 4), 321, 365, 451, 'nitish'}"
      ]
     },
     "execution_count": 150,
     "metadata": {},
     "output_type": "execute_result"
    }
   ],
   "source": [
    "s3"
   ]
  },
  {
   "cell_type": "code",
   "execution_count": 155,
   "id": "888e653f-9f9c-4a6f-b081-ec983b47eb6b",
   "metadata": {},
   "outputs": [],
   "source": [
    "s4 = {2,3,4,5,2,6,3,8,7,4,5,9,8,7,21,3,65,4,21,2,5,4,\"Nitish\",\"nitish\"}"
   ]
  },
  {
   "cell_type": "code",
   "execution_count": 156,
   "id": "072965f5-a359-471e-8f96-ed9a4802345f",
   "metadata": {},
   "outputs": [
    {
     "data": {
      "text/plain": [
       "{2, 21, 3, 4, 5, 6, 65, 7, 8, 9, 'Nitish', 'nitish'}"
      ]
     },
     "execution_count": 156,
     "metadata": {},
     "output_type": "execute_result"
    }
   ],
   "source": [
    "s4"
   ]
  },
  {
   "cell_type": "code",
   "execution_count": 157,
   "id": "06feaf4b-8781-4cfd-832d-6426529de2c5",
   "metadata": {},
   "outputs": [],
   "source": [
    "l6 =  {2,3,4,5,2,6,3,8,7,4,5,9,8,7,21,3,65,4,21,2,5,4,\"Nitish\",\"nitish\"}"
   ]
  },
  {
   "cell_type": "code",
   "execution_count": 158,
   "id": "dcdbd346-603b-4dd3-a48e-e95ba473d77a",
   "metadata": {},
   "outputs": [
    {
     "data": {
      "text/plain": [
       "{2, 21, 3, 4, 5, 6, 65, 7, 8, 9, 'Nitish', 'nitish'}"
      ]
     },
     "execution_count": 158,
     "metadata": {},
     "output_type": "execute_result"
    }
   ],
   "source": [
    "l6"
   ]
  },
  {
   "cell_type": "code",
   "execution_count": 159,
   "id": "87c131f9-cc32-4a55-a0c9-72b6d9ec95b7",
   "metadata": {},
   "outputs": [],
   "source": [
    "l6 = list(set(l6))"
   ]
  },
  {
   "cell_type": "code",
   "execution_count": 160,
   "id": "672988c8-af53-4b31-92a0-3643c0921199",
   "metadata": {},
   "outputs": [
    {
     "data": {
      "text/plain": [
       "[65, 2, 3, 4, 5, 6, 7, 8, 9, 'nitish', 21, 'Nitish']"
      ]
     },
     "execution_count": 160,
     "metadata": {},
     "output_type": "execute_result"
    }
   ],
   "source": [
    "l6"
   ]
  },
  {
   "cell_type": "code",
   "execution_count": 161,
   "id": "ba6c2337-aa36-42cf-a55f-7c89bb80ce07",
   "metadata": {},
   "outputs": [],
   "source": [
    "s5 = {234,45,87,256,455,\"abc\",124,785}"
   ]
  },
  {
   "cell_type": "code",
   "execution_count": 162,
   "id": "17bf4bbc-62f9-4c68-8b4a-94d387576221",
   "metadata": {},
   "outputs": [
    {
     "data": {
      "text/plain": [
       "{124, 234, 256, 45, 455, 785, 87, 'abc'}"
      ]
     },
     "execution_count": 162,
     "metadata": {},
     "output_type": "execute_result"
    }
   ],
   "source": [
    "s5"
   ]
  },
  {
   "cell_type": "code",
   "execution_count": 163,
   "id": "4e4bf622-e2fc-458f-b647-6c6313952721",
   "metadata": {},
   "outputs": [
    {
     "ename": "TypeError",
     "evalue": "'set' object is not subscriptable",
     "output_type": "error",
     "traceback": [
      "\u001b[0;31m---------------------------------------------------------------------------\u001b[0m",
      "\u001b[0;31mTypeError\u001b[0m                                 Traceback (most recent call last)",
      "Cell \u001b[0;32mIn[163], line 1\u001b[0m\n\u001b[0;32m----> 1\u001b[0m \u001b[43ms5\u001b[49m\u001b[43m[\u001b[49m\u001b[38;5;241;43m0\u001b[39;49m\u001b[43m]\u001b[49m\n",
      "\u001b[0;31mTypeError\u001b[0m: 'set' object is not subscriptable"
     ]
    }
   ],
   "source": [
    "s5[0]"
   ]
  },
  {
   "cell_type": "code",
   "execution_count": 164,
   "id": "ac8e735f-b6c7-48aa-b541-dcf197867b4e",
   "metadata": {},
   "outputs": [],
   "source": [
    "s5.add(4)"
   ]
  },
  {
   "cell_type": "code",
   "execution_count": 165,
   "id": "4d92eac4-8d47-47d3-9120-4496044c0dcc",
   "metadata": {},
   "outputs": [
    {
     "data": {
      "text/plain": [
       "{124, 234, 256, 4, 45, 455, 785, 87, 'abc'}"
      ]
     },
     "execution_count": 165,
     "metadata": {},
     "output_type": "execute_result"
    }
   ],
   "source": [
    "s5"
   ]
  },
  {
   "cell_type": "code",
   "execution_count": 167,
   "id": "0a56695c-7069-4862-af5e-2a7fe594e3ac",
   "metadata": {},
   "outputs": [],
   "source": [
    "s5.remove(124)"
   ]
  },
  {
   "cell_type": "code",
   "execution_count": 168,
   "id": "7fb0adac-7f4c-44a9-b78f-adaf05e6e900",
   "metadata": {},
   "outputs": [
    {
     "data": {
      "text/plain": [
       "{234, 256, 4, 45, 455, 785, 87, 'abc'}"
      ]
     },
     "execution_count": 168,
     "metadata": {},
     "output_type": "execute_result"
    }
   ],
   "source": [
    "s5"
   ]
  },
  {
   "cell_type": "code",
   "execution_count": null,
   "id": "4db0aba0-7bd3-4faa-bc5b-ba367e5ded8f",
   "metadata": {},
   "outputs": [],
   "source": []
  }
 ],
 "metadata": {
  "kernelspec": {
   "display_name": "Python 3 (ipykernel)",
   "language": "python",
   "name": "python3"
  },
  "language_info": {
   "codemirror_mode": {
    "name": "ipython",
    "version": 3
   },
   "file_extension": ".py",
   "mimetype": "text/x-python",
   "name": "python",
   "nbconvert_exporter": "python",
   "pygments_lexer": "ipython3",
   "version": "3.10.8"
  }
 },
 "nbformat": 4,
 "nbformat_minor": 5
}
